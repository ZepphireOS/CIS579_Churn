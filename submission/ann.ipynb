{
 "cells": [
  {
   "cell_type": "markdown",
   "id": "9f7dae29",
   "metadata": {},
   "source": [
    "# This file explores the Artificial Neural Network"
   ]
  },
  {
   "cell_type": "code",
   "execution_count": 1,
   "id": "1c79f1af",
   "metadata": {},
   "outputs": [],
   "source": [
    "import pandas as pd\n",
    "import numpy as np\n",
    "import matplotlib.pyplot as plt\n",
    "import seaborn as sns\n",
    "from tqdm import tqdm\n",
    "import torch\n",
    "import torch.nn as nn\n",
    "import torch.nn.functional as F\n",
    "import torch.optim as optim\n",
    "from torch.utils.data import TensorDataset, DataLoader\n",
    "from sklearn.model_selection import train_test_split\n",
    "from sklearn.metrics import classification_report, recall_score, precision_score\n",
    "from sklearn.preprocessing import LabelEncoder\n",
    "from collections import Counter"
   ]
  },
  {
   "cell_type": "code",
   "execution_count": 2,
   "id": "ecddafe8",
   "metadata": {},
   "outputs": [],
   "source": [
    "# Set random seeds to ensure that the results are repeatable with each run.\n",
    "seed = 42\n",
    "np.random.seed(seed)\n",
    "torch.manual_seed(seed)\n",
    "torch.cuda.manual_seed_all(seed)"
   ]
  },
  {
   "cell_type": "code",
   "execution_count": 3,
   "id": "7f5f6a73",
   "metadata": {},
   "outputs": [
    {
     "name": "stdout",
     "output_type": "stream",
     "text": [
      "CUDA is available. Using GPU.\n"
     ]
    }
   ],
   "source": [
    "# Check if cuda is available\n",
    "if torch.cuda.is_available():\n",
    "    device = torch.device('cuda:0')\n",
    "    print('CUDA is available. Using GPU.')\n",
    "else:\n",
    "    device = torch.device('cpu')\n",
    "    print('CUDA is not available. Using CPU.')"
   ]
  },
  {
   "cell_type": "code",
   "execution_count": null,
   "id": "e751fb75",
   "metadata": {},
   "outputs": [],
   "source": [
    "# Import dataset\n",
    "df = pd.read_csv(\"preprocessed.csv\")"
   ]
  },
  {
   "cell_type": "code",
   "execution_count": 5,
   "id": "36859911",
   "metadata": {},
   "outputs": [],
   "source": [
    "# For a neural network, the input needs to be numbers. \n",
    "df = df.astype(float)"
   ]
  },
  {
   "cell_type": "code",
   "execution_count": 6,
   "id": "29cc73f3",
   "metadata": {},
   "outputs": [],
   "source": [
    "# We'll need to save both X and y values onto their respective tensors.\n",
    "X_tensor = torch.tensor(df.drop(\"Churn\", axis = 1).values, dtype=torch.float32)\n",
    "y_tensor = torch.tensor(df[\"Churn\"].values, dtype=torch.float32).view(-1, 1)"
   ]
  },
  {
   "cell_type": "code",
   "execution_count": 7,
   "id": "dc606e23",
   "metadata": {},
   "outputs": [
    {
     "name": "stdout",
     "output_type": "stream",
     "text": [
      "X_tensor shape: torch.Size([7032, 25])\n",
      "y_tensor shape: torch.Size([7032, 1])\n",
      "Churn ratio: 0.26578498293515357\n"
     ]
    }
   ],
   "source": [
    "print(\"X_tensor shape:\", X_tensor.shape)  # should be (7032, 25)\n",
    "print(\"y_tensor shape:\", y_tensor.shape)  # should be (7032, 1)\n",
    "print(\"Churn ratio:\", y_tensor.sum().item() / y_tensor.shape[0])  # should be ~0.27 (based on earlier info)\n"
   ]
  },
  {
   "cell_type": "code",
   "execution_count": 8,
   "id": "16fd681a",
   "metadata": {},
   "outputs": [],
   "source": [
    "# Split the training data into testing\n",
    "# 70% train, 15% val, 15% test\n",
    "X_train, X_temp, y_train, y_temp = train_test_split(X_tensor, y_tensor, test_size=0.2, random_state=42, stratify = df[\"Churn\"])\n",
    "X_val, X_test, y_val, y_test = train_test_split(X_temp, y_temp, test_size=0.5, random_state=42, stratify = y_temp.numpy().flatten())\n"
   ]
  },
  {
   "cell_type": "code",
   "execution_count": 9,
   "id": "318fa3ed",
   "metadata": {},
   "outputs": [],
   "source": [
    "# Hyperparameters\n",
    "batch_size = 100\n",
    "lr = 1e-4\n",
    "l2_lambda = 1e-1\n",
    "num_epochs = 100"
   ]
  },
  {
   "cell_type": "code",
   "execution_count": 10,
   "id": "324b868c",
   "metadata": {},
   "outputs": [
    {
     "name": "stderr",
     "output_type": "stream",
     "text": [
      "C:\\Users\\manub\\AppData\\Local\\Temp\\ipykernel_28896\\3405323041.py:1: UserWarning: To copy construct from a tensor, it is recommended to use sourceTensor.clone().detach() or sourceTensor.clone().detach().requires_grad_(True), rather than torch.tensor(sourceTensor).\n",
      "  train_dataset = TensorDataset(torch.tensor(X_train), torch.tensor(y_train))\n",
      "C:\\Users\\manub\\AppData\\Local\\Temp\\ipykernel_28896\\3405323041.py:2: UserWarning: To copy construct from a tensor, it is recommended to use sourceTensor.clone().detach() or sourceTensor.clone().detach().requires_grad_(True), rather than torch.tensor(sourceTensor).\n",
      "  val_dataset = TensorDataset(torch.tensor(X_val), torch.tensor(y_val))\n",
      "C:\\Users\\manub\\AppData\\Local\\Temp\\ipykernel_28896\\3405323041.py:3: UserWarning: To copy construct from a tensor, it is recommended to use sourceTensor.clone().detach() or sourceTensor.clone().detach().requires_grad_(True), rather than torch.tensor(sourceTensor).\n",
      "  test_dataset = TensorDataset(torch.tensor(X_test), torch.tensor(y_test))\n"
     ]
    }
   ],
   "source": [
    "train_dataset = TensorDataset(torch.tensor(X_train), torch.tensor(y_train))\n",
    "val_dataset = TensorDataset(torch.tensor(X_val), torch.tensor(y_val))\n",
    "test_dataset = TensorDataset(torch.tensor(X_test), torch.tensor(y_test))\n",
    "\n",
    "trainloader = DataLoader(train_dataset, batch_size=batch_size, shuffle=True)\n",
    "valloader = DataLoader(val_dataset, batch_size=batch_size)\n",
    "testloader = DataLoader(test_dataset, batch_size=batch_size)\n"
   ]
  },
  {
   "cell_type": "code",
   "execution_count": 11,
   "id": "dabf5332",
   "metadata": {},
   "outputs": [],
   "source": [
    "class ChurnModel(nn.Module):\n",
    "    def __init__(self, input_dim):\n",
    "        super(ChurnModel, self).__init__()\n",
    "        # Define the layers\n",
    "        self.fc1 = nn.Linear(input_dim, 128)  # Input layer to first hidden layer\n",
    "        self.bn1 = nn.BatchNorm1d(128)\n",
    "        self.fc2 = nn.Linear(128, 64)         # First hidden layer to second hidden layer\n",
    "        self.bn2 = nn.BatchNorm1d(64)\n",
    "        self.fc3 = nn.Linear(128, 1)          # Second hidden layer to output layer\n",
    "\n",
    "        # Activation functions\n",
    "        self.relu = nn.LeakyReLU()\n",
    "        self.sigmoid = nn.Sigmoid()\n",
    "        self.dropout = nn.Dropout(p = 0.3)\n",
    "\n",
    "    def forward(self, x):\n",
    "        # Pass input through the network\n",
    "        x = self.dropout(self.relu(self.bn1(self.fc1(x))))  # Apply ReLU after first layer\n",
    "        #x = self.dropout(self.relu(self.bn2(self.fc2(x))))  # Apply ReLU after second layer\n",
    "        x = self.fc3(x)  # Output using Sigmoid activation\n",
    "        return x\n"
   ]
  },
  {
   "cell_type": "code",
   "execution_count": 12,
   "id": "c8174e00",
   "metadata": {},
   "outputs": [],
   "source": [
    "model = ChurnModel(X_tensor.shape[1]).to(device)\n",
    "pos_weight = torch.tensor([3.0]).to(device)\n",
    "criterion = nn.BCEWithLogitsLoss(pos_weight = pos_weight)\n",
    "optimizer = optim.Adam(model.parameters(), lr=lr, weight_decay = l2_lambda)\n"
   ]
  },
  {
   "cell_type": "code",
   "execution_count": 13,
   "id": "429aba85",
   "metadata": {},
   "outputs": [],
   "source": [
    "# Set up early stopping parameters\n",
    "patience = 20\n",
    "best_recall = 0.0\n",
    "epochs_no_improve = 0"
   ]
  },
  {
   "cell_type": "code",
   "execution_count": null,
   "id": "4a8ca59f",
   "metadata": {},
   "outputs": [
    {
     "name": "stdout",
     "output_type": "stream",
     "text": [
      "\n",
      "Epoch No. 1 out of 100\n"
     ]
    },
    {
     "name": "stderr",
     "output_type": "stream",
     "text": [
      "100%|██████████| 57/57 [00:00<00:00, 90.36it/s, Accuracy=0.4668, Loss=1.0336]\n"
     ]
    },
    {
     "name": "stdout",
     "output_type": "stream",
     "text": [
      "Precision: 0.3084 | Recall: 0.7701 | Dist: Counter({np.int64(1): 467, np.int64(0): 236})\n",
      "Model improved, saving checkpoint.\n",
      "\n",
      "Epoch No. 2 out of 100\n"
     ]
    },
    {
     "name": "stderr",
     "output_type": "stream",
     "text": [
      "100%|██████████| 57/57 [00:00<00:00, 266.31it/s, Accuracy=0.5022, Loss=1.0046]\n"
     ]
    },
    {
     "name": "stdout",
     "output_type": "stream",
     "text": [
      "Precision: 0.3215 | Recall: 0.7754 | Dist: Counter({np.int64(1): 451, np.int64(0): 252})\n",
      "Model improved, saving checkpoint.\n",
      "\n",
      "Epoch No. 3 out of 100\n"
     ]
    },
    {
     "name": "stderr",
     "output_type": "stream",
     "text": [
      "100%|██████████| 57/57 [00:00<00:00, 256.43it/s, Accuracy=0.5259, Loss=0.9961]\n"
     ]
    },
    {
     "name": "stdout",
     "output_type": "stream",
     "text": [
      "Precision: 0.3255 | Recall: 0.7433 | Dist: Counter({np.int64(1): 427, np.int64(0): 276})\n",
      "No improvement for 1 epochs.\n",
      "\n",
      "Epoch No. 4 out of 100\n"
     ]
    },
    {
     "name": "stderr",
     "output_type": "stream",
     "text": [
      "100%|██████████| 57/57 [00:00<00:00, 319.55it/s, Accuracy=0.5524, Loss=0.9908]\n"
     ]
    },
    {
     "name": "stdout",
     "output_type": "stream",
     "text": [
      "Precision: 0.3400 | Recall: 0.7273 | Dist: Counter({np.int64(1): 400, np.int64(0): 303})\n",
      "No improvement for 2 epochs.\n",
      "\n",
      "Epoch No. 5 out of 100\n"
     ]
    },
    {
     "name": "stderr",
     "output_type": "stream",
     "text": [
      "100%|██████████| 57/57 [00:00<00:00, 204.08it/s, Accuracy=0.5687, Loss=0.9852]\n"
     ]
    },
    {
     "name": "stdout",
     "output_type": "stream",
     "text": [
      "Precision: 0.3475 | Recall: 0.7433 | Dist: Counter({np.int64(1): 400, np.int64(0): 303})\n",
      "No improvement for 3 epochs.\n",
      "\n",
      "Epoch No. 6 out of 100\n"
     ]
    },
    {
     "name": "stderr",
     "output_type": "stream",
     "text": [
      "100%|██████████| 57/57 [00:00<00:00, 258.40it/s, Accuracy=0.5819, Loss=0.9801]\n"
     ]
    },
    {
     "name": "stdout",
     "output_type": "stream",
     "text": [
      "Precision: 0.3525 | Recall: 0.7540 | Dist: Counter({np.int64(1): 400, np.int64(0): 303})\n",
      "No improvement for 4 epochs.\n",
      "\n",
      "Epoch No. 7 out of 100\n"
     ]
    },
    {
     "name": "stderr",
     "output_type": "stream",
     "text": [
      "100%|██████████| 57/57 [00:00<00:00, 223.67it/s, Accuracy=0.5932, Loss=0.9751]\n"
     ]
    },
    {
     "name": "stdout",
     "output_type": "stream",
     "text": [
      "Precision: 0.3601 | Recall: 0.7433 | Dist: Counter({np.int64(1): 386, np.int64(0): 317})\n",
      "No improvement for 5 epochs.\n",
      "\n",
      "Epoch No. 8 out of 100\n"
     ]
    },
    {
     "name": "stderr",
     "output_type": "stream",
     "text": [
      "100%|██████████| 57/57 [00:00<00:00, 240.99it/s, Accuracy=0.5973, Loss=0.9709]\n"
     ]
    },
    {
     "name": "stdout",
     "output_type": "stream",
     "text": [
      "Precision: 0.3649 | Recall: 0.7219 | Dist: Counter({np.int64(1): 370, np.int64(0): 333})\n",
      "No improvement for 6 epochs.\n",
      "\n",
      "Epoch No. 9 out of 100\n"
     ]
    },
    {
     "name": "stderr",
     "output_type": "stream",
     "text": [
      "100%|██████████| 57/57 [00:00<00:00, 274.44it/s, Accuracy=0.5959, Loss=0.9668]\n"
     ]
    },
    {
     "name": "stdout",
     "output_type": "stream",
     "text": [
      "Precision: 0.3732 | Recall: 0.7005 | Dist: Counter({np.int64(0): 352, np.int64(1): 351})\n",
      "No improvement for 7 epochs.\n",
      "\n",
      "Epoch No. 10 out of 100\n"
     ]
    },
    {
     "name": "stderr",
     "output_type": "stream",
     "text": [
      "100%|██████████| 57/57 [00:00<00:00, 241.77it/s, Accuracy=0.6190, Loss=0.9622]\n"
     ]
    },
    {
     "name": "stdout",
     "output_type": "stream",
     "text": [
      "Precision: 0.3778 | Recall: 0.7112 | Dist: Counter({np.int64(1): 352, np.int64(0): 351})\n",
      "No improvement for 8 epochs.\n",
      "\n",
      "Epoch No. 11 out of 100\n"
     ]
    },
    {
     "name": "stderr",
     "output_type": "stream",
     "text": [
      "100%|██████████| 57/57 [00:00<00:00, 314.47it/s, Accuracy=0.6196, Loss=0.9580]\n"
     ]
    },
    {
     "name": "stdout",
     "output_type": "stream",
     "text": [
      "Precision: 0.3740 | Recall: 0.7219 | Dist: Counter({np.int64(1): 361, np.int64(0): 342})\n",
      "No improvement for 9 epochs.\n",
      "\n",
      "Epoch No. 12 out of 100\n"
     ]
    },
    {
     "name": "stderr",
     "output_type": "stream",
     "text": [
      "100%|██████████| 57/57 [00:00<00:00, 246.64it/s, Accuracy=0.6140, Loss=0.9531]\n"
     ]
    },
    {
     "name": "stdout",
     "output_type": "stream",
     "text": [
      "Precision: 0.3753 | Recall: 0.7487 | Dist: Counter({np.int64(1): 373, np.int64(0): 330})\n",
      "No improvement for 10 epochs.\n",
      "\n",
      "Epoch No. 13 out of 100\n"
     ]
    },
    {
     "name": "stderr",
     "output_type": "stream",
     "text": [
      "100%|██████████| 57/57 [00:00<00:00, 216.93it/s, Accuracy=0.6167, Loss=0.9492]\n"
     ]
    },
    {
     "name": "stdout",
     "output_type": "stream",
     "text": [
      "Precision: 0.3818 | Recall: 0.7166 | Dist: Counter({np.int64(0): 352, np.int64(1): 351})\n",
      "No improvement for 11 epochs.\n",
      "\n",
      "Epoch No. 14 out of 100\n"
     ]
    },
    {
     "name": "stderr",
     "output_type": "stream",
     "text": [
      "100%|██████████| 57/57 [00:00<00:00, 196.78it/s, Accuracy=0.6361, Loss=0.9446]\n"
     ]
    },
    {
     "name": "stdout",
     "output_type": "stream",
     "text": [
      "Precision: 0.3887 | Recall: 0.7380 | Dist: Counter({np.int64(1): 355, np.int64(0): 348})\n",
      "No improvement for 12 epochs.\n",
      "\n",
      "Epoch No. 15 out of 100\n"
     ]
    },
    {
     "name": "stderr",
     "output_type": "stream",
     "text": [
      "100%|██████████| 57/57 [00:00<00:00, 266.34it/s, Accuracy=0.6352, Loss=0.9402]\n"
     ]
    },
    {
     "name": "stdout",
     "output_type": "stream",
     "text": [
      "Precision: 0.3863 | Recall: 0.7540 | Dist: Counter({np.int64(1): 365, np.int64(0): 338})\n",
      "No improvement for 13 epochs.\n",
      "\n",
      "Epoch No. 16 out of 100\n"
     ]
    },
    {
     "name": "stderr",
     "output_type": "stream",
     "text": [
      "100%|██████████| 57/57 [00:00<00:00, 320.18it/s, Accuracy=0.6354, Loss=0.9363]"
     ]
    },
    {
     "name": "stdout",
     "output_type": "stream",
     "text": [
      "Precision: 0.3908 | Recall: 0.7754 | Dist: Counter({np.int64(1): 371, np.int64(0): 332})\n",
      "No improvement for 14 epochs.\n",
      "\n",
      "Epoch No. 17 out of 100\n"
     ]
    },
    {
     "name": "stderr",
     "output_type": "stream",
     "text": [
      "\n",
      "100%|██████████| 57/57 [00:00<00:00, 281.11it/s, Accuracy=0.6398, Loss=0.9326]\n"
     ]
    },
    {
     "name": "stdout",
     "output_type": "stream",
     "text": [
      "Precision: 0.3939 | Recall: 0.7647 | Dist: Counter({np.int64(1): 363, np.int64(0): 340})\n",
      "No improvement for 15 epochs.\n",
      "\n",
      "Epoch No. 18 out of 100\n"
     ]
    },
    {
     "name": "stderr",
     "output_type": "stream",
     "text": [
      "100%|██████████| 57/57 [00:00<00:00, 245.68it/s, Accuracy=0.6357, Loss=0.9283]\n"
     ]
    },
    {
     "name": "stdout",
     "output_type": "stream",
     "text": [
      "Precision: 0.3971 | Recall: 0.7326 | Dist: Counter({np.int64(0): 358, np.int64(1): 345})\n",
      "No improvement for 16 epochs.\n",
      "\n",
      "Epoch No. 19 out of 100\n"
     ]
    },
    {
     "name": "stderr",
     "output_type": "stream",
     "text": [
      "100%|██████████| 57/57 [00:00<00:00, 315.01it/s, Accuracy=0.6414, Loss=0.9247]\n"
     ]
    },
    {
     "name": "stdout",
     "output_type": "stream",
     "text": [
      "Precision: 0.4023 | Recall: 0.7380 | Dist: Counter({np.int64(0): 360, np.int64(1): 343})\n",
      "No improvement for 17 epochs.\n",
      "\n",
      "Epoch No. 20 out of 100\n"
     ]
    },
    {
     "name": "stderr",
     "output_type": "stream",
     "text": [
      "100%|██████████| 57/57 [00:00<00:00, 286.80it/s, Accuracy=0.6434, Loss=0.9205]\n"
     ]
    },
    {
     "name": "stdout",
     "output_type": "stream",
     "text": [
      "Precision: 0.4052 | Recall: 0.7540 | Dist: Counter({np.int64(0): 355, np.int64(1): 348})\n",
      "No improvement for 18 epochs.\n",
      "\n",
      "Epoch No. 21 out of 100\n"
     ]
    },
    {
     "name": "stderr",
     "output_type": "stream",
     "text": [
      "100%|██████████| 57/57 [00:00<00:00, 299.81it/s, Accuracy=0.6555, Loss=0.9160]\n"
     ]
    },
    {
     "name": "stdout",
     "output_type": "stream",
     "text": [
      "Precision: 0.3989 | Recall: 0.7914 | Dist: Counter({np.int64(1): 371, np.int64(0): 332})\n",
      "Model improved, saving checkpoint.\n",
      "\n",
      "Epoch No. 22 out of 100\n"
     ]
    },
    {
     "name": "stderr",
     "output_type": "stream",
     "text": [
      "100%|██████████| 57/57 [00:00<00:00, 193.15it/s, Accuracy=0.6469, Loss=0.9138]\n"
     ]
    },
    {
     "name": "stdout",
     "output_type": "stream",
     "text": [
      "Precision: 0.4164 | Recall: 0.7594 | Dist: Counter({np.int64(0): 362, np.int64(1): 341})\n",
      "No improvement for 1 epochs.\n",
      "\n",
      "Epoch No. 23 out of 100\n"
     ]
    },
    {
     "name": "stderr",
     "output_type": "stream",
     "text": [
      "100%|██████████| 57/57 [00:00<00:00, 245.64it/s, Accuracy=0.6585, Loss=0.9103]\n"
     ]
    },
    {
     "name": "stdout",
     "output_type": "stream",
     "text": [
      "Precision: 0.4160 | Recall: 0.7807 | Dist: Counter({np.int64(0): 352, np.int64(1): 351})\n",
      "No improvement for 2 epochs.\n",
      "\n",
      "Epoch No. 24 out of 100\n"
     ]
    },
    {
     "name": "stderr",
     "output_type": "stream",
     "text": [
      "100%|██████████| 57/57 [00:00<00:00, 230.94it/s, Accuracy=0.6526, Loss=0.9065]\n"
     ]
    },
    {
     "name": "stdout",
     "output_type": "stream",
     "text": [
      "Precision: 0.4232 | Recall: 0.7807 | Dist: Counter({np.int64(0): 358, np.int64(1): 345})\n",
      "No improvement for 3 epochs.\n",
      "\n",
      "Epoch No. 25 out of 100\n"
     ]
    },
    {
     "name": "stderr",
     "output_type": "stream",
     "text": [
      "100%|██████████| 57/57 [00:00<00:00, 257.04it/s, Accuracy=0.6635, Loss=0.9038]\n"
     ]
    },
    {
     "name": "stdout",
     "output_type": "stream",
     "text": [
      "Precision: 0.4195 | Recall: 0.7807 | Dist: Counter({np.int64(0): 355, np.int64(1): 348})\n",
      "No improvement for 4 epochs.\n",
      "\n",
      "Epoch No. 26 out of 100\n"
     ]
    },
    {
     "name": "stderr",
     "output_type": "stream",
     "text": [
      "100%|██████████| 57/57 [00:00<00:00, 288.11it/s, Accuracy=0.6574, Loss=0.9004]\n"
     ]
    },
    {
     "name": "stdout",
     "output_type": "stream",
     "text": [
      "Precision: 0.4312 | Recall: 0.7540 | Dist: Counter({np.int64(0): 376, np.int64(1): 327})\n",
      "No improvement for 5 epochs.\n",
      "\n",
      "Epoch No. 27 out of 100\n"
     ]
    },
    {
     "name": "stderr",
     "output_type": "stream",
     "text": [
      "100%|██████████| 57/57 [00:00<00:00, 258.20it/s, Accuracy=0.6651, Loss=0.8974]\n"
     ]
    },
    {
     "name": "stdout",
     "output_type": "stream",
     "text": [
      "Precision: 0.4311 | Recall: 0.7701 | Dist: Counter({np.int64(0): 369, np.int64(1): 334})\n",
      "No improvement for 6 epochs.\n",
      "\n",
      "Epoch No. 28 out of 100\n"
     ]
    },
    {
     "name": "stderr",
     "output_type": "stream",
     "text": [
      "100%|██████████| 57/57 [00:00<00:00, 255.78it/s, Accuracy=0.6631, Loss=0.8944]\n"
     ]
    },
    {
     "name": "stdout",
     "output_type": "stream",
     "text": [
      "Precision: 0.4473 | Recall: 0.7487 | Dist: Counter({np.int64(0): 390, np.int64(1): 313})\n",
      "No improvement for 7 epochs.\n",
      "\n",
      "Epoch No. 29 out of 100\n"
     ]
    },
    {
     "name": "stderr",
     "output_type": "stream",
     "text": [
      "100%|██████████| 57/57 [00:00<00:00, 247.93it/s, Accuracy=0.6654, Loss=0.8915]\n"
     ]
    },
    {
     "name": "stdout",
     "output_type": "stream",
     "text": [
      "Precision: 0.4282 | Recall: 0.7807 | Dist: Counter({np.int64(0): 362, np.int64(1): 341})\n",
      "No improvement for 8 epochs.\n",
      "\n",
      "Epoch No. 30 out of 100\n"
     ]
    },
    {
     "name": "stderr",
     "output_type": "stream",
     "text": [
      "100%|██████████| 57/57 [00:00<00:00, 267.92it/s, Accuracy=0.6677, Loss=0.8888]\n"
     ]
    },
    {
     "name": "stdout",
     "output_type": "stream",
     "text": [
      "Precision: 0.4323 | Recall: 0.8021 | Dist: Counter({np.int64(0): 356, np.int64(1): 347})\n",
      "Model improved, saving checkpoint.\n",
      "\n",
      "Epoch No. 31 out of 100\n"
     ]
    },
    {
     "name": "stderr",
     "output_type": "stream",
     "text": [
      "100%|██████████| 57/57 [00:00<00:00, 301.13it/s, Accuracy=0.6716, Loss=0.8864]\n"
     ]
    },
    {
     "name": "stdout",
     "output_type": "stream",
     "text": [
      "Precision: 0.4324 | Recall: 0.7861 | Dist: Counter({np.int64(0): 363, np.int64(1): 340})\n",
      "No improvement for 1 epochs.\n",
      "\n",
      "Epoch No. 32 out of 100\n"
     ]
    },
    {
     "name": "stderr",
     "output_type": "stream",
     "text": [
      "100%|██████████| 57/57 [00:00<00:00, 342.35it/s, Accuracy=0.6702, Loss=0.8833]\n"
     ]
    },
    {
     "name": "stdout",
     "output_type": "stream",
     "text": [
      "Precision: 0.4494 | Recall: 0.7594 | Dist: Counter({np.int64(0): 387, np.int64(1): 316})\n",
      "No improvement for 2 epochs.\n",
      "\n",
      "Epoch No. 33 out of 100\n"
     ]
    },
    {
     "name": "stderr",
     "output_type": "stream",
     "text": [
      "100%|██████████| 57/57 [00:00<00:00, 218.15it/s, Accuracy=0.6818, Loss=0.8814]\n"
     ]
    },
    {
     "name": "stdout",
     "output_type": "stream",
     "text": [
      "Precision: 0.4336 | Recall: 0.7861 | Dist: Counter({np.int64(0): 364, np.int64(1): 339})\n",
      "No improvement for 3 epochs.\n",
      "\n",
      "Epoch No. 34 out of 100\n"
     ]
    },
    {
     "name": "stderr",
     "output_type": "stream",
     "text": [
      "100%|██████████| 57/57 [00:00<00:00, 229.45it/s, Accuracy=0.6743, Loss=0.8793]\n"
     ]
    },
    {
     "name": "stdout",
     "output_type": "stream",
     "text": [
      "Precision: 0.4551 | Recall: 0.7594 | Dist: Counter({np.int64(0): 391, np.int64(1): 312})\n",
      "No improvement for 4 epochs.\n",
      "\n",
      "Epoch No. 35 out of 100\n"
     ]
    },
    {
     "name": "stderr",
     "output_type": "stream",
     "text": [
      "100%|██████████| 57/57 [00:00<00:00, 256.21it/s, Accuracy=0.6807, Loss=0.8770]\n"
     ]
    },
    {
     "name": "stdout",
     "output_type": "stream",
     "text": [
      "Precision: 0.4465 | Recall: 0.7807 | Dist: Counter({np.int64(0): 376, np.int64(1): 327})\n",
      "No improvement for 5 epochs.\n",
      "\n",
      "Epoch No. 36 out of 100\n"
     ]
    },
    {
     "name": "stderr",
     "output_type": "stream",
     "text": [
      "100%|██████████| 57/57 [00:00<00:00, 328.74it/s, Accuracy=0.6869, Loss=0.8746]\n"
     ]
    },
    {
     "name": "stdout",
     "output_type": "stream",
     "text": [
      "Precision: 0.4398 | Recall: 0.7807 | Dist: Counter({np.int64(0): 371, np.int64(1): 332})\n",
      "No improvement for 6 epochs.\n",
      "\n",
      "Epoch No. 37 out of 100\n"
     ]
    },
    {
     "name": "stderr",
     "output_type": "stream",
     "text": [
      "100%|██████████| 57/57 [00:00<00:00, 300.80it/s, Accuracy=0.6875, Loss=0.8731]\n"
     ]
    },
    {
     "name": "stdout",
     "output_type": "stream",
     "text": [
      "Precision: 0.4411 | Recall: 0.7807 | Dist: Counter({np.int64(0): 372, np.int64(1): 331})\n",
      "No improvement for 7 epochs.\n",
      "\n",
      "Epoch No. 38 out of 100\n"
     ]
    },
    {
     "name": "stderr",
     "output_type": "stream",
     "text": [
      "100%|██████████| 57/57 [00:00<00:00, 239.96it/s, Accuracy=0.6868, Loss=0.8702]\n"
     ]
    },
    {
     "name": "stdout",
     "output_type": "stream",
     "text": [
      "Precision: 0.4520 | Recall: 0.7807 | Dist: Counter({np.int64(0): 380, np.int64(1): 323})\n",
      "No improvement for 8 epochs.\n",
      "\n",
      "Epoch No. 39 out of 100\n"
     ]
    },
    {
     "name": "stderr",
     "output_type": "stream",
     "text": [
      "100%|██████████| 57/57 [00:00<00:00, 238.51it/s, Accuracy=0.6828, Loss=0.8696]\n"
     ]
    },
    {
     "name": "stdout",
     "output_type": "stream",
     "text": [
      "Precision: 0.4520 | Recall: 0.7807 | Dist: Counter({np.int64(0): 380, np.int64(1): 323})\n",
      "No improvement for 9 epochs.\n",
      "\n",
      "Epoch No. 40 out of 100\n"
     ]
    },
    {
     "name": "stderr",
     "output_type": "stream",
     "text": [
      "100%|██████████| 57/57 [00:00<00:00, 309.86it/s, Accuracy=0.6921, Loss=0.8667]\n"
     ]
    },
    {
     "name": "stdout",
     "output_type": "stream",
     "text": [
      "Precision: 0.4489 | Recall: 0.7754 | Dist: Counter({np.int64(0): 380, np.int64(1): 323})\n",
      "No improvement for 10 epochs.\n",
      "\n",
      "Epoch No. 41 out of 100\n"
     ]
    },
    {
     "name": "stderr",
     "output_type": "stream",
     "text": [
      "100%|██████████| 57/57 [00:00<00:00, 198.06it/s, Accuracy=0.6939, Loss=0.8654]\n"
     ]
    },
    {
     "name": "stdout",
     "output_type": "stream",
     "text": [
      "Precision: 0.4444 | Recall: 0.7701 | Dist: Counter({np.int64(0): 379, np.int64(1): 324})\n",
      "No improvement for 11 epochs.\n",
      "\n",
      "Epoch No. 42 out of 100\n"
     ]
    },
    {
     "name": "stderr",
     "output_type": "stream",
     "text": [
      "100%|██████████| 57/57 [00:00<00:00, 262.53it/s, Accuracy=0.6919, Loss=0.8636]\n"
     ]
    },
    {
     "name": "stdout",
     "output_type": "stream",
     "text": [
      "Precision: 0.4444 | Recall: 0.7914 | Dist: Counter({np.int64(0): 370, np.int64(1): 333})\n",
      "No improvement for 12 epochs.\n",
      "\n",
      "Epoch No. 43 out of 100\n"
     ]
    },
    {
     "name": "stderr",
     "output_type": "stream",
     "text": [
      "100%|██████████| 57/57 [00:00<00:00, 228.39it/s, Accuracy=0.6992, Loss=0.8627]\n"
     ]
    },
    {
     "name": "stdout",
     "output_type": "stream",
     "text": [
      "Precision: 0.4475 | Recall: 0.7754 | Dist: Counter({np.int64(0): 379, np.int64(1): 324})\n",
      "No improvement for 13 epochs.\n",
      "\n",
      "Epoch No. 44 out of 100\n"
     ]
    },
    {
     "name": "stderr",
     "output_type": "stream",
     "text": [
      "100%|██████████| 57/57 [00:00<00:00, 256.37it/s, Accuracy=0.7019, Loss=0.8603]\n"
     ]
    },
    {
     "name": "stdout",
     "output_type": "stream",
     "text": [
      "Precision: 0.4479 | Recall: 0.7807 | Dist: Counter({np.int64(0): 377, np.int64(1): 326})\n",
      "No improvement for 14 epochs.\n",
      "\n",
      "Epoch No. 45 out of 100\n"
     ]
    },
    {
     "name": "stderr",
     "output_type": "stream",
     "text": [
      "100%|██████████| 57/57 [00:00<00:00, 267.57it/s, Accuracy=0.6946, Loss=0.8599]\n"
     ]
    },
    {
     "name": "stdout",
     "output_type": "stream",
     "text": [
      "Precision: 0.4625 | Recall: 0.7594 | Dist: Counter({np.int64(0): 396, np.int64(1): 307})\n",
      "No improvement for 15 epochs.\n",
      "\n",
      "Epoch No. 46 out of 100\n"
     ]
    },
    {
     "name": "stderr",
     "output_type": "stream",
     "text": [
      "100%|██████████| 57/57 [00:00<00:00, 210.73it/s, Accuracy=0.7010, Loss=0.8573]\n"
     ]
    },
    {
     "name": "stdout",
     "output_type": "stream",
     "text": [
      "Precision: 0.4589 | Recall: 0.7754 | Dist: Counter({np.int64(0): 387, np.int64(1): 316})\n",
      "No improvement for 16 epochs.\n",
      "\n",
      "Epoch No. 47 out of 100\n"
     ]
    },
    {
     "name": "stderr",
     "output_type": "stream",
     "text": [
      "100%|██████████| 57/57 [00:00<00:00, 237.68it/s, Accuracy=0.7024, Loss=0.8565]\n"
     ]
    },
    {
     "name": "stdout",
     "output_type": "stream",
     "text": [
      "Precision: 0.4598 | Recall: 0.7647 | Dist: Counter({np.int64(0): 392, np.int64(1): 311})\n",
      "No improvement for 17 epochs.\n",
      "\n",
      "Epoch No. 48 out of 100\n"
     ]
    },
    {
     "name": "stderr",
     "output_type": "stream",
     "text": [
      "100%|██████████| 57/57 [00:00<00:00, 263.68it/s, Accuracy=0.6999, Loss=0.8550]\n"
     ]
    },
    {
     "name": "stdout",
     "output_type": "stream",
     "text": [
      "Precision: 0.4762 | Recall: 0.7487 | Dist: Counter({np.int64(0): 409, np.int64(1): 294})\n",
      "No improvement for 18 epochs.\n",
      "\n",
      "Epoch No. 49 out of 100\n"
     ]
    },
    {
     "name": "stderr",
     "output_type": "stream",
     "text": [
      "100%|██████████| 57/57 [00:00<00:00, 228.99it/s, Accuracy=0.7065, Loss=0.8543]\n"
     ]
    },
    {
     "name": "stdout",
     "output_type": "stream",
     "text": [
      "Precision: 0.4686 | Recall: 0.7594 | Dist: Counter({np.int64(0): 400, np.int64(1): 303})\n",
      "No improvement for 19 epochs.\n",
      "\n",
      "Epoch No. 50 out of 100\n"
     ]
    },
    {
     "name": "stderr",
     "output_type": "stream",
     "text": [
      "100%|██████████| 57/57 [00:00<00:00, 230.10it/s, Accuracy=0.7052, Loss=0.8528]"
     ]
    },
    {
     "name": "stdout",
     "output_type": "stream",
     "text": [
      "Precision: 0.4669 | Recall: 0.7540 | Dist: Counter({np.int64(0): 401, np.int64(1): 302})\n",
      "No improvement for 20 epochs.\n",
      "Early stopping triggered. Training halted.\n"
     ]
    },
    {
     "name": "stderr",
     "output_type": "stream",
     "text": [
      "\n"
     ]
    }
   ],
   "source": [
    "# Run the model\n",
    "epoch_count = 0     # This is for the plot after this code block\n",
    "train_losses = []\n",
    "train_accuracies = []\n",
    "valid_losses = []\n",
    "valid_accuracies = []\n",
    "\n",
    "for epoch in range(num_epochs):\n",
    "    epoch_count += 1\n",
    "    running_loss = 0.0\n",
    "    train_acc = 0.0\n",
    "    total_samples = 0\n",
    "    total_loss = 0.0  \n",
    "\n",
    "    print(f\"\\nEpoch No. {epoch+1} out of {num_epochs}\")\n",
    "    with tqdm(total=len(trainloader)) as pbar:\n",
    "        for idx, (data, labels) in enumerate(trainloader):\n",
    "            data, labels = data.to(device), labels.to(device)\n",
    "\n",
    "            # Forward Pass\n",
    "            optimizer.zero_grad()\n",
    "            pred = model(data)\n",
    "            loss = criterion(pred, labels)\n",
    "\n",
    "            # Backpropagation and optimizer step\n",
    "            loss.backward()\n",
    "            optimizer.step()\n",
    "\n",
    "            # Scale loss by batch size\n",
    "            batch_loss = loss.item() * labels.size(0)\n",
    "            total_loss += batch_loss\n",
    "\n",
    "            # Binary classification accuracy\n",
    "            probs = torch.sigmoid(pred)\n",
    "            preds = (probs >= 0.5).float()\n",
    "            correct = (preds == labels).sum().item()\n",
    "            train_acc += correct\n",
    "            total_samples += labels.size(0)\n",
    "\n",
    "\n",
    "            pbar.set_postfix(\n",
    "                Loss=f'{total_loss / total_samples:.4f}',  # Proper loss display\n",
    "                Accuracy=f'{train_acc / total_samples:.4f}'\n",
    "            )\n",
    "            pbar.update(1)\n",
    "\n",
    "    # Compute overall loss and accuracy\n",
    "    train_loss = total_loss / total_samples  # Normalize loss\n",
    "    train_acc = (train_acc / total_samples) * 100  # Convert to percentage\n",
    "\n",
    "    train_losses.append(train_loss)\n",
    "    train_accuracies.append(train_acc)\n",
    "        \n",
    "    # Validation updates\n",
    "    model.eval()\n",
    "    val_loss = 0.0\n",
    "    val_acc = 0\n",
    "    total_val_samples = 0\n",
    "    all_preds = []\n",
    "    all_labels = []\n",
    "\n",
    "    with torch.no_grad():  \n",
    "        for data, labels in valloader:\n",
    "            data, labels = data.to(device), labels.to(device)\n",
    "            pred = model(data)\n",
    "            loss = criterion(pred, labels)\n",
    "            \n",
    "            batch_loss = loss.item() * labels.size(0)  # Scale loss properly\n",
    "            val_loss += batch_loss\n",
    "\n",
    "            # Binary classification accuracy\n",
    "            probs = torch.sigmoid(pred)\n",
    "            preds = (probs >= 0.5).float()\n",
    "            correct = (preds == labels).sum().item()\n",
    "            val_acc += correct\n",
    "            total_val_samples += labels.size(0)\n",
    "\n",
    "            # Collect predictions and labels for recall calculation\n",
    "            all_preds.extend(preds.cpu().numpy().astype(int).flatten())\n",
    "            all_labels.extend(labels.cpu().numpy().astype(int).flatten())\n",
    "\n",
    "    val_loss /= total_val_samples  # Normalize by total samples\n",
    "    val_accuracy = (val_acc / total_val_samples) * 100\n",
    "\n",
    "     # Calculate precision and recall using sklearn's recall_score\n",
    "    precision = precision_score(all_labels, all_preds)\n",
    "    recall = recall_score(all_labels, all_preds)\n",
    "    pred_counts = Counter(all_preds)\n",
    "\n",
    "    print(f\"Precision: {precision:.4f} | Recall: {recall:.4f} | Dist: {pred_counts}\")\n",
    "    valid_losses.append(val_loss)\n",
    "    valid_accuracies.append(val_accuracy)\n",
    "\n",
    "    # **Early Stopping Check**\n",
    "    if recall > best_recall:\n",
    "        best_recall = recall\n",
    "        epochs_no_improve = 0  # Reset counter\n",
    "        torch.save(model.state_dict(), \"webapp/assets/models/ann_model.pth\")  # Save best model\n",
    "        print(\"Model improved, saving checkpoint.\")\n",
    "    else:\n",
    "        epochs_no_improve += 1\n",
    "        print(f\"No improvement for {epochs_no_improve} epochs.\")\n",
    "\n",
    "    # **Trigger Early Stopping**\n",
    "    if epochs_no_improve >= patience:\n",
    "        print(\"Early stopping triggered. Training halted.\")\n",
    "        break\n"
   ]
  },
  {
   "cell_type": "code",
   "execution_count": null,
   "id": "ec833c22",
   "metadata": {},
   "outputs": [
    {
     "data": {
      "text/plain": [
       "<All keys matched successfully>"
      ]
     },
     "execution_count": 15,
     "metadata": {},
     "output_type": "execute_result"
    }
   ],
   "source": [
    "model.load_state_dict(torch.load(\"webapp/assets/models/ann_model.pth\"))"
   ]
  },
  {
   "cell_type": "code",
   "execution_count": 16,
   "id": "98263a9e",
   "metadata": {},
   "outputs": [
    {
     "name": "stdout",
     "output_type": "stream",
     "text": [
      "Accuracy: 69.0340909090909 %\n"
     ]
    }
   ],
   "source": [
    "correct = 0\n",
    "total = 0\n",
    "y_pred = []\n",
    "y_true = []\n",
    "\n",
    "with torch.no_grad():\n",
    "    for data in testloader:\n",
    "        images, labels = data[0].to(device), data[1].to(device)\n",
    "        y_true.append(labels)\n",
    "        outputs = model(images)\n",
    "        probs = torch.sigmoid(outputs)\n",
    "        predicted = (probs >= 0.5).float()\n",
    "        y_pred.append(predicted)\n",
    "        total += labels.size(0)\n",
    "        correct += (predicted == labels).sum().item()\n",
    "\n",
    "model_accuracy = 100 * correct / total\n",
    "\n",
    "print(f'Accuracy: {model_accuracy} %')"
   ]
  },
  {
   "cell_type": "code",
   "execution_count": 17,
   "id": "39ef52b9",
   "metadata": {},
   "outputs": [
    {
     "name": "stdout",
     "output_type": "stream",
     "text": [
      "              precision    recall  f1-score   support\n",
      "\n",
      "           0       0.93      0.62      0.75       517\n",
      "           1       0.46      0.88      0.60       187\n",
      "\n",
      "    accuracy                           0.69       704\n",
      "   macro avg       0.70      0.75      0.67       704\n",
      "weighted avg       0.81      0.69      0.71       704\n",
      "\n"
     ]
    }
   ],
   "source": [
    "from sklearn.metrics import classification_report\n",
    "\n",
    "y_true = torch.cat(y_true).cpu().numpy().astype(int)\n",
    "y_pred = torch.cat(y_pred).cpu().numpy().astype(int)\n",
    "    \n",
    "# Generating the classification report\n",
    "print(classification_report(y_true, y_pred))"
   ]
  },
  {
   "cell_type": "code",
   "execution_count": 18,
   "id": "7e436f19",
   "metadata": {},
   "outputs": [
    {
     "data": {
      "text/plain": [
       "0.8770053475935828"
      ]
     },
     "execution_count": 18,
     "metadata": {},
     "output_type": "execute_result"
    }
   ],
   "source": [
    "recall_score(y_true, y_pred)"
   ]
  },
  {
   "cell_type": "code",
   "execution_count": 19,
   "id": "b799b19c",
   "metadata": {},
   "outputs": [
    {
     "data": {
      "image/png": "[encoded data removed]",
      "text/plain": [
       "<Figure size 600x500 with 1 Axes>"
      ]
     },
     "metadata": {},
     "output_type": "display_data"
    }
   ],
   "source": [
    "from sklearn.metrics import confusion_matrix\n",
    "\n",
    "# Compute confusion matrix\n",
    "cm = confusion_matrix(y_true, y_pred)\n",
    "classes = [\"No Churn\", \"Churn\"]\n",
    "\n",
    "# Plot the confusion matrix using seaborn heatmap\n",
    "plt.figure(figsize=(6, 5))\n",
    "sns.heatmap(cm, annot=True, fmt=\"d\", cmap=\"Blues\", xticklabels=classes, yticklabels=classes, cbar=False)\n",
    "\n",
    "plt.title(\"Confusion Matrix\")\n",
    "plt.xlabel('Predicted Labels')\n",
    "plt.ylabel('True Labels')\n",
    "plt.xticks(rotation=45)\n",
    "plt.yticks(rotation=45)\n",
    "plt.show()"
   ]
  }
 ],
 "metadata": {
  "kernelspec": {
   "display_name": "torch_env",
   "language": "python",
   "name": "python3"
  },
  "language_info": {
   "codemirror_mode": {
    "name": "ipython",
    "version": 3
   },
   "file_extension": ".py",
   "mimetype": "text/x-python",
   "name": "python",
   "nbconvert_exporter": "python",
   "pygments_lexer": "ipython3",
   "version": "3.10.16"
  }
 },
 "nbformat": 4,
 "nbformat_minor": 5
}
