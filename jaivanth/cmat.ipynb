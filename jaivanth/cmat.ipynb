{
 "cells": [
  {
   "cell_type": "code",
   "execution_count": 5,
   "id": "aa525750",
   "metadata": {},
   "outputs": [
    {
     "name": "stdout",
     "output_type": "stream",
     "text": [
      "[[1033    0]\n",
      " [ 374    0]]\n"
     ]
    }
   ],
   "source": [
    "from sklearn.metrics import confusion_matrix\n",
    "from sklearn.model_selection import train_test_split\n",
    "\n",
    "import pandas as pd\n",
    "from joblib import load\n",
    "model = load('/media/jai/Deck/projects/ai-churn/CIS579_Churn/xgc1.joblib')\n",
    "df = pd.read_csv(\"/media/jai/Deck/projects/ai-churn/CIS579_Churn/data/bs_eda_wo_index.csv\")\n",
    "\n",
    "features = ['Senior Citizen', 'Partner', 'Dependents', 'Tenure', 'Phone Service','Multiple Lines', 'Online Security', 'Online Backup','Device Protection', 'Tech Support', 'Streaming TV', 'Streaming Movies','Paperless Billing', 'Monthly Charges', 'Total Charges','Internet Service_DSL', 'Internet Service_Fiber optic','Internet Service_No', 'Contract_Month-to-month', 'Contract_One year','Contract_Two year', 'Payment Method_Bank transfer (automatic)','Payment Method_Credit card (automatic)','Payment Method_Electronic check', 'Payment Method_Mailed check']\n",
    "target = ['Churn']\n",
    "data=[features, target]\n",
    "\n",
    "X_train, X_test, y_train, y_test = train_test_split(df[features], df[target], test_size=0.2)\n",
    "y_pred = model.predict(X_test)\n",
    "print(confusion_matrix(y_test, y_pred))"
   ]
  }
 ],
 "metadata": {
  "kernelspec": {
   "display_name": "cis579",
   "language": "python",
   "name": "python3"
  },
  "language_info": {
   "codemirror_mode": {
    "name": "ipython",
    "version": 3
   },
   "file_extension": ".py",
   "mimetype": "text/x-python",
   "name": "python",
   "nbconvert_exporter": "python",
   "pygments_lexer": "ipython3",
   "version": "3.12.9"
  }
 },
 "nbformat": 4,
 "nbformat_minor": 5
}
